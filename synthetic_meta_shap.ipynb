{
 "cells": [
  {
   "cell_type": "code",
   "execution_count": 1,
   "id": "6095676d",
   "metadata": {},
   "outputs": [],
   "source": [
    "import os\n",
    "import sys\n",
    "sys.path.append(os.path.join(os.getcwd(), '..'))\n",
    "import time\n",
    "import torch\n",
    "import warnings\n",
    "import matplotlib.pyplot as plt\n",
    "from CoExBO._utils import TensorManager\n",
    "tm = TensorManager()\n",
    "warnings.filterwarnings('ignore')\n",
    "\n",
    "n_dims = 6                        # number of dimensions\n",
    "dataset = \"ranger\"\n",
    "seed = 3            # random seed for reproduce the results #SEED 8 rpart_preproc, SEED 3 for Ranger, SEED 1 for rpart, rpart_val: 5,"
   ]
  },
  {
   "cell_type": "code",
   "execution_count": 2,
   "id": "6223d252",
   "metadata": {},
   "outputs": [],
   "source": [
    "class Benchmark():\n",
    "    def __init__(self, X_data, Y_data):\n",
    "        self.X_data = X_data\n",
    "        self.Y_data = Y_data\n",
    "        \n",
    "    def find_closest_point(self, query, loop = False):\n",
    "        y_set = []\n",
    "        query = query.squeeze()\n",
    "        if len(query.shape) > 1:\n",
    "            for X in query:\n",
    "                X = X.detach().numpy()\n",
    "                distances = np.linalg.norm(self.X_data - X, axis=1)\n",
    "                closest_index = np.argmin(distances)\n",
    "                #print(self.X_data[closest_index])\n",
    "                #print(X)\n",
    "                y = self.Y_data[closest_index]\n",
    "                y_set.append(y)\n",
    "            #print(\"y_set: \", y_set)\n",
    "            return torch.tensor(y_set, dtype=torch.float32).squeeze()\n",
    "        else:\n",
    "            X = query.detach().numpy()\n",
    "            distances = np.linalg.norm(self.X_data - X, axis=1)\n",
    "            closest_index = np.argmin(distances)\n",
    "            y = self.Y_data[closest_index]\n",
    "            return torch.tensor(y, dtype=torch.float32)\n"
   ]
  },
  {
   "cell_type": "code",
   "execution_count": 3,
   "id": "2b18edce",
   "metadata": {},
   "outputs": [],
   "source": [
    "lower_limit = 0\n",
    "upper_limit = 1\n",
    "colour_map = 'summer'\n",
    "resolution = 200\n",
    "ground_truth = torch.tensor([-1.02543108, -1.02543108])"
   ]
  },
  {
   "cell_type": "markdown",
   "id": "23b24407",
   "metadata": {},
   "source": [
    "## 2. Define domain\n",
    "Next, we define the domain of interest.\n",
    "We set domain as uniform distribution bounded -2 from 3."
   ]
  },
  {
   "cell_type": "code",
   "execution_count": 4,
   "id": "cbafa1d2",
   "metadata": {},
   "outputs": [],
   "source": [
    "import seaborn as sns\n",
    "import pandas as pd\n",
    "\n",
    "# set bounds\n",
    "\n",
    "mins = lower_limit * torch.ones(n_dims)\n",
    "maxs = upper_limit * torch.ones(n_dims)\n",
    "bounds = torch.vstack([mins, maxs]) # bounds\n",
    "\n",
    "# set domain\n",
    "from CoExBO._prior import Uniform    # Import prior from SOBER libraries\n",
    "domain = Uniform(bounds)\n"
   ]
  },
  {
   "cell_type": "markdown",
   "id": "f87eb557",
   "metadata": {},
   "source": [
    "## 3. Preferential learning\n",
    "Next, we try to learn the prior knowledge of human user.<br>\n",
    "For simplicity, human selection process is automatically generated with 60% accuracy via simulation."
   ]
  },
  {
   "cell_type": "code",
   "execution_count": 5,
   "id": "2e81240d",
   "metadata": {
    "scrolled": true
   },
   "outputs": [],
   "source": [
    "from CoExBO._coexbo import CoExBOwithSimulation, StateManager\n",
    "n_init_pref = 100      # number of initial random samples for preferential learning\n",
    "n_init_obj = 1        # number of initial random samples for objective function"
   ]
  },
  {
   "cell_type": "markdown",
   "id": "fdbb3d21",
   "metadata": {},
   "source": [
    "## 4. Run CoExBO\n",
    "Now, we will collaborate with BO for faster convergence.<br>"
   ]
  },
  {
   "cell_type": "code",
   "execution_count": 6,
   "id": "d2b70b9b",
   "metadata": {},
   "outputs": [],
   "source": [
    "n_iterations = 50     # number of iterations\n",
    "# initial setting\n",
    "torch.manual_seed(seed)\n",
    "state = StateManager(n_dims=n_dims)"
   ]
  },
  {
   "cell_type": "code",
   "execution_count": 7,
   "id": "42ee82e5",
   "metadata": {},
   "outputs": [],
   "source": [
    "from importlib.machinery import SourceFileLoader\n",
    "def load_module(filename):\n",
    "    module_name = os.path.splitext(os.path.basename(filename))[0]\n",
    "    return SourceFileLoader(module_name, filename).load_module(module_name)"
   ]
  },
  {
   "cell_type": "code",
   "execution_count": 8,
   "id": "a90abdad",
   "metadata": {},
   "outputs": [
    {
     "data": {
      "text/plain": [
       "TNPA(\n",
       "  (embedder): Sequential(\n",
       "    (0): Linear(in_features=7, out_features=64, bias=True)\n",
       "    (1): ReLU(inplace=True)\n",
       "    (2): Linear(in_features=64, out_features=64, bias=True)\n",
       "    (3): ReLU(inplace=True)\n",
       "    (4): Linear(in_features=64, out_features=64, bias=True)\n",
       "    (5): ReLU(inplace=True)\n",
       "    (6): Linear(in_features=64, out_features=64, bias=True)\n",
       "  )\n",
       "  (encoder): TransformerEncoder(\n",
       "    (layers): ModuleList(\n",
       "      (0-5): 6 x TransformerEncoderLayer(\n",
       "        (self_attn): MultiheadAttention(\n",
       "          (out_proj): NonDynamicallyQuantizableLinear(in_features=64, out_features=64, bias=True)\n",
       "        )\n",
       "        (linear1): Linear(in_features=64, out_features=128, bias=True)\n",
       "        (dropout): Dropout(p=0.0, inplace=False)\n",
       "        (linear2): Linear(in_features=128, out_features=64, bias=True)\n",
       "        (norm1): LayerNorm((64,), eps=1e-05, elementwise_affine=True)\n",
       "        (norm2): LayerNorm((64,), eps=1e-05, elementwise_affine=True)\n",
       "        (dropout1): Dropout(p=0.0, inplace=False)\n",
       "        (dropout2): Dropout(p=0.0, inplace=False)\n",
       "      )\n",
       "    )\n",
       "  )\n",
       "  (predictor): Sequential(\n",
       "    (0): Linear(in_features=64, out_features=128, bias=True)\n",
       "    (1): ReLU()\n",
       "    (2): Linear(in_features=128, out_features=2, bias=True)\n",
       "  )\n",
       ")"
      ]
     },
     "execution_count": 8,
     "metadata": {},
     "output_type": "execute_result"
    }
   ],
   "source": [
    "import yaml\n",
    "model_type = 'tnpa'\n",
    "model_cls = getattr(load_module(f'./models/{model_type}.py'), model_type.upper())\n",
    "with open(f'configs/{dataset}/{model_type}.yaml', 'r') as f:\n",
    "    config = yaml.safe_load(f)\n",
    "#if args.model in [\"np\", \"anp\", \"cnp\", \"canp\", \"bnp\", \"banp\", \"tnpa\", \"tnpd\", \"tnpnd\"]:\n",
    "model = model_cls(**config)\n",
    "model.cuda()\n"
   ]
  },
  {
   "cell_type": "code",
   "execution_count": 9,
   "id": "19e83e71",
   "metadata": {},
   "outputs": [
    {
     "data": {
      "text/plain": [
       "<All keys matched successfully>"
      ]
     },
     "execution_count": 9,
     "metadata": {},
     "output_type": "execute_result"
    }
   ],
   "source": [
    "import os.path as osp\n",
    "import torch\n",
    "from botorch.acquisition import AnalyticAcquisitionFunction\n",
    "from botorch.utils import t_batch_mode_transform\n",
    "from CoExBO._utils import TensorManager\n",
    "\n",
    "device = torch.device('cuda' if torch.cuda.is_available() else 'cpu')\n",
    "results_path = './results/'\n",
    "model_name = 'tnpa'\n",
    "ckpt_path = osp.join(results_path, dataset, model_name, 'ckpt.tar')\n",
    "\n",
    "ckpt = torch.load(ckpt_path, map_location=device)\n",
    "model.load_state_dict(ckpt.model)"
   ]
  },
  {
   "cell_type": "code",
   "execution_count": 10,
   "id": "45c8641d",
   "metadata": {},
   "outputs": [],
   "source": [
    "import numpy as np\n",
    "X_test = np.load(f'./datasets/{dataset}/X_test.npz')\n",
    "y_test = np.load(f'./datasets/{dataset}/y_test.npz')\n",
    "X_validation = np.load(f'./datasets/{dataset}/X_validation.npz')\n",
    "y_validation = np.load(f'./datasets/{dataset}/y_validation.npz')\n",
    "\n",
    "X_validation_ = np.array([X_validation[key].astype('float32') for key in X_validation.keys()])\n",
    "y_validation_ = np.array([y_validation[key].astype('float32') for key in y_validation.keys()])\n",
    "\n",
    "\n",
    "X_test_ = np.array([X_test[key].astype('float32') for key in X_test.keys()])\n",
    "y_test_ = np.array([y_test[key].astype('float32') for key in y_test.keys()])"
   ]
  },
  {
   "cell_type": "code",
   "execution_count": 20,
   "id": "ccb51e84",
   "metadata": {},
   "outputs": [
    {
     "ename": "AttributeError",
     "evalue": "'numpy.ndarray' object has no attribute 'Type'",
     "output_type": "error",
     "traceback": [
      "\u001b[0;31m---------------------------------------------------------------------------\u001b[0m",
      "\u001b[0;31mAttributeError\u001b[0m                            Traceback (most recent call last)",
      "Cell \u001b[0;32mIn[20], line 1\u001b[0m\n\u001b[0;32m----> 1\u001b[0m \u001b[43mX_validation_\u001b[49m\u001b[43m[\u001b[49m\u001b[38;5;241;43m0\u001b[39;49m\u001b[43m]\u001b[49m\u001b[38;5;241;43m.\u001b[39;49m\u001b[43mType\u001b[49m\n",
      "\u001b[0;31mAttributeError\u001b[0m: 'numpy.ndarray' object has no attribute 'Type'"
     ]
    }
   ],
   "source": [
    "X_validation_[0]"
   ]
  },
  {
   "cell_type": "code",
   "execution_count": 14,
   "id": "3addcce1",
   "metadata": {},
   "outputs": [
    {
     "name": "stderr",
     "output_type": "stream",
     "text": [
      "Using 115 background data samples could cause slower run times. Consider using shap.sample(data, K) or shap.kmeans(data, K) to summarize the background as K samples.\n"
     ]
    },
    {
     "name": "stdout",
     "output_type": "stream",
     "text": [
      "self.xc.shape:  torch.Size([1, 1, 6])\n",
      "MEAN SHAPE:  torch.Size([115])\n",
      "DATA1 : [[0.0043 0.1056 0.2858 0.027  0.4716 0.0601]]\n",
      "self.xc.shape:  torch.Size([1, 1, 6])\n",
      "MEAN SHAPE:  torch.Size([1])\n",
      "self.xc.shape:  torch.Size([1, 1, 6])\n",
      "MEAN SHAPE:  torch.Size([7130])\n"
     ]
    }
   ],
   "source": [
    "import numpy as np\n",
    "import shap\n",
    "xt = torch.tensor([[0.0043, 0.1056, 0.2858, 0.0270, 0.4716, 0.0601],[0.0043, 0.1056, 0.2858, 0.0270, 0.4716, 0.0601],[0.0043, 0.1056, 0.2858, 0.0270, 0.4716, 0.0601],[0.0043, 0.1056, 0.2858, 0.0270, 0.4716, 0.0601]]).cuda()\n",
    "model.xc = torch.tensor([[[0,0,0,0,0,0]]]).cuda()\n",
    "model.yc = torch.tensor([[[0]]]).cuda()\n",
    "explainer = shap.KernelExplainer(model.predict_mean, X_validation_[0])\n",
    "mean_shap = explainer.shap_values(xt[0].detach().cpu().numpy())"
   ]
  },
  {
   "cell_type": "code",
   "execution_count": 17,
   "id": "8dbb9726",
   "metadata": {},
   "outputs": [
    {
     "data": {
      "text/plain": [
       "<BarContainer object of 6 artists>"
      ]
     },
     "execution_count": 17,
     "metadata": {},
     "output_type": "execute_result"
    },
    {
     "data": {
      "image/png": "[encoded data removed]",
      "text/plain": [
       "<Figure size 640x480 with 1 Axes>"
      ]
     },
     "metadata": {},
     "output_type": "display_data"
    }
   ],
   "source": [
    "plt.bar(range(len(mean_shap)),mean_shap)"
   ]
  },
  {
   "cell_type": "code",
   "execution_count": 13,
   "id": "5869176f",
   "metadata": {},
   "outputs": [
    {
     "name": "stderr",
     "output_type": "stream",
     "text": [
      "Using 115 background data samples could cause slower run times. Consider using shap.sample(data, K) or shap.kmeans(data, K) to summarize the background as K samples.\n"
     ]
    },
    {
     "name": "stdout",
     "output_type": "stream",
     "text": [
      "MEAN SHAPE:  torch.Size([115])\n",
      "DATA1 : [[0.0043 0.1056 0.2858 0.027  0.4716 0.0601]]\n",
      "MEAN SHAPE:  torch.Size([1])\n",
      "MEAN SHAPE:  torch.Size([7130])\n"
     ]
    },
    {
     "data": {
      "text/plain": [
       "array([ 2.27804028e-03,  3.42092922e-05,  1.04051838e-03, -3.27963624e-04,\n",
       "        3.48472083e-04,  1.04075380e-03])"
      ]
     },
     "execution_count": 13,
     "metadata": {},
     "output_type": "execute_result"
    }
   ],
   "source": [
    "explainer = shap.KernelExplainer(model.predict_std, X_validation_[0])\n",
    "explainer.shap_values(xt[0].detach().cpu().numpy())"
   ]
  },
  {
   "cell_type": "code",
   "execution_count": 13,
   "id": "ed9dfed0",
   "metadata": {},
   "outputs": [
    {
     "ename": "SystemExit",
     "evalue": "",
     "output_type": "error",
     "traceback": [
      "An exception has occurred, use %tb to see the full traceback.\n",
      "\u001b[0;31mSystemExit\u001b[0m\n"
     ]
    }
   ],
   "source": [
    "sys.exit()"
   ]
  },
  {
   "cell_type": "code",
   "execution_count": null,
   "id": "359e360b",
   "metadata": {
    "scrolled": false
   },
   "outputs": [
    {
     "name": "stdout",
     "output_type": "stream",
     "text": [
      "X_VAL:  "
     ]
    },
    {
     "name": "stdout",
     "output_type": "stream",
     "text": [
      "tensor([[0.0043, 0.1056, 0.2858, 0.0270, 0.4716, 0.0601]])\n",
      "0) parameters: beta 1.697e+00 gamma 0.000e+00\n"
     ]
    },
    {
     "ename": "KeyboardInterrupt",
     "evalue": "",
     "output_type": "error",
     "traceback": [
      "\u001b[0;31m---------------------------------------------------------------------------\u001b[0m",
      "\u001b[0;31mKeyboardInterrupt\u001b[0m                         Traceback (most recent call last)",
      "Cell \u001b[0;32mIn[16], line 46\u001b[0m\n\u001b[1;32m     44\u001b[0m beta, gamma \u001b[38;5;241m=\u001b[39m state(t)\n\u001b[1;32m     45\u001b[0m \u001b[38;5;66;03m#print(\"dataset_obj: \", dataset_obj[1])\u001b[39;00m\n\u001b[0;32m---> 46\u001b[0m result, dataset_obj, dataset_duel \u001b[38;5;241m=\u001b[39m \u001b[43mcoexbo\u001b[49m\u001b[43m(\u001b[49m\n\u001b[1;32m     47\u001b[0m \u001b[43m    \u001b[49m\u001b[43mdataset_obj\u001b[49m\u001b[43m,\u001b[49m\u001b[43m \u001b[49m\u001b[43mdataset_duel\u001b[49m\u001b[43m,\u001b[49m\u001b[43m \u001b[49m\u001b[43mbeta\u001b[49m\u001b[43m,\u001b[49m\u001b[43m \u001b[49m\u001b[43mgamma\u001b[49m\u001b[43m,\u001b[49m\u001b[43m \u001b[49m\u001b[43mmodel_TPN\u001b[49m\u001b[43m \u001b[49m\u001b[38;5;241;43m=\u001b[39;49m\u001b[43m \u001b[49m\u001b[43mmodel\u001b[49m\u001b[43m,\u001b[49m\u001b[43m \u001b[49m\u001b[43mlower_limit\u001b[49m\u001b[38;5;241;43m=\u001b[39;49m\u001b[43m \u001b[49m\u001b[43mlower_limit\u001b[49m\u001b[43m,\u001b[49m\u001b[43m \u001b[49m\u001b[43mupper_limit\u001b[49m\u001b[38;5;241;43m=\u001b[39;49m\u001b[43mupper_limit\u001b[49m\n\u001b[1;32m     48\u001b[0m \u001b[43m\u001b[49m\u001b[43m)\u001b[49m\n\u001b[1;32m     49\u001b[0m best_v \u001b[38;5;241m=\u001b[39m dataset_obj[\u001b[38;5;241m1\u001b[39m]\u001b[38;5;241m.\u001b[39mmax()\u001b[38;5;241m.\u001b[39mitem()\n\u001b[1;32m     50\u001b[0m \u001b[38;5;28;01mif\u001b[39;00m best_v \u001b[38;5;241m>\u001b[39m max_bv:\n",
      "File \u001b[0;32m/lustre/lunari/NPF/CoExBO-meta/CoExBO/_coexbo.py:658\u001b[0m, in \u001b[0;36mCoExBOwithSimulation.__call__\u001b[0;34m(self, dataset_obj, dataset_duel, beta, gamma, sigma, model_TPN, lower_limit, upper_limit)\u001b[0m\n\u001b[1;32m    656\u001b[0m \u001b[38;5;66;03m# 1. CoExBO loop\u001b[39;00m\n\u001b[1;32m    657\u001b[0m \u001b[38;5;28;01mif\u001b[39;00m \u001b[38;5;28mself\u001b[39m\u001b[38;5;241m.\u001b[39mlearn_preference:\n\u001b[0;32m--> 658\u001b[0m     model, prior_pref \u001b[38;5;241m=\u001b[39m \u001b[38;5;28;43mself\u001b[39;49m\u001b[38;5;241;43m.\u001b[39;49m\u001b[43mset_models\u001b[49m\u001b[43m(\u001b[49m\u001b[43mX\u001b[49m\u001b[43m,\u001b[49m\u001b[43m \u001b[49m\u001b[43mY\u001b[49m\u001b[43m,\u001b[49m\u001b[43m \u001b[49m\u001b[43mX_pairwise\u001b[49m\u001b[43m,\u001b[49m\u001b[43m \u001b[49m\u001b[43my_pairwise\u001b[49m\u001b[43m)\u001b[49m\n\u001b[1;32m    659\u001b[0m     \u001b[38;5;28;01mif\u001b[39;00m model_TPN:\n\u001b[1;32m    660\u001b[0m         model \u001b[38;5;241m=\u001b[39m model_TPN\n",
      "File \u001b[0;32m/lustre/lunari/NPF/CoExBO-meta/CoExBO/_coexbo.py:514\u001b[0m, in \u001b[0;36mCoExBOwithSimulation.set_models\u001b[0;34m(self, X, Y, X_pairwise, y_pairwise)\u001b[0m\n\u001b[1;32m    511\u001b[0m model \u001b[38;5;241m=\u001b[39m set_and_fit_rbf_model(X, Y)\n\u001b[1;32m    512\u001b[0m \u001b[38;5;28;01mif\u001b[39;00m \u001b[38;5;28mself\u001b[39m\u001b[38;5;241m.\u001b[39mlearn_preference:\n\u001b[1;32m    513\u001b[0m     \u001b[38;5;66;03m# CoExBO acquisition function is to learn human preference.\u001b[39;00m\n\u001b[0;32m--> 514\u001b[0m     model_pref \u001b[38;5;241m=\u001b[39m \u001b[43mset_and_train_classifier\u001b[49m\u001b[43m(\u001b[49m\n\u001b[1;32m    515\u001b[0m \u001b[43m        \u001b[49m\u001b[43mX_pairwise\u001b[49m\u001b[43m,\u001b[49m\u001b[43m \u001b[49m\n\u001b[1;32m    516\u001b[0m \u001b[43m        \u001b[49m\u001b[43my_pairwise\u001b[49m\u001b[43m,\u001b[49m\u001b[43m \u001b[49m\n\u001b[1;32m    517\u001b[0m \u001b[43m        \u001b[49m\u001b[43mtraining_iter\u001b[49m\u001b[38;5;241;43m=\u001b[39;49m\u001b[38;5;28;43mself\u001b[39;49m\u001b[38;5;241;43m.\u001b[39;49m\u001b[43mtraining_iter\u001b[49m\u001b[43m,\u001b[49m\n\u001b[1;32m    518\u001b[0m \u001b[43m    \u001b[49m\u001b[43m)\u001b[49m\n\u001b[1;32m    519\u001b[0m     prior_pref \u001b[38;5;241m=\u001b[39m MonteCarloQuadrature(model_pref, \u001b[38;5;28mself\u001b[39m\u001b[38;5;241m.\u001b[39mdomain, n_mc\u001b[38;5;241m=\u001b[39m\u001b[38;5;28mself\u001b[39m\u001b[38;5;241m.\u001b[39mn_mc_quadrature)\n\u001b[1;32m    520\u001b[0m     \u001b[38;5;28;01mreturn\u001b[39;00m model, prior_pref\n",
      "File \u001b[0;32m/lustre/lunari/NPF/CoExBO-meta/CoExBO/_gp_classifier.py:105\u001b[0m, in \u001b[0;36mset_and_train_classifier\u001b[0;34m(X_pairwise, y_pairwise, training_iter)\u001b[0m\n\u001b[1;32m     93\u001b[0m \u001b[38;5;250m\u001b[39m\u001b[38;5;124;03m\"\"\"\u001b[39;00m\n\u001b[1;32m     94\u001b[0m \u001b[38;5;124;03mSet and Train the Dirichlet GP model in one go.\u001b[39;00m\n\u001b[1;32m     95\u001b[0m \n\u001b[0;32m   (...)\u001b[0m\n\u001b[1;32m    102\u001b[0m \u001b[38;5;124;03m- model: gpytorch.models, the Dirichlet GP model after training\u001b[39;00m\n\u001b[1;32m    103\u001b[0m \u001b[38;5;124;03m\"\"\"\u001b[39;00m\n\u001b[1;32m    104\u001b[0m model \u001b[38;5;241m=\u001b[39m set_gp_classifier(X_pairwise, y_pairwise)\n\u001b[0;32m--> 105\u001b[0m model \u001b[38;5;241m=\u001b[39m \u001b[43mtrain_by_sgd\u001b[49m\u001b[43m(\u001b[49m\u001b[43mmodel\u001b[49m\u001b[43m,\u001b[49m\u001b[43m \u001b[49m\u001b[43mtraining_iter\u001b[49m\u001b[38;5;241;43m=\u001b[39;49m\u001b[43mtraining_iter\u001b[49m\u001b[43m)\u001b[49m\n\u001b[1;32m    106\u001b[0m \u001b[38;5;28;01mreturn\u001b[39;00m model\n",
      "File \u001b[0;32m/lustre/lunari/NPF/CoExBO-meta/CoExBO/_gp_classifier.py:88\u001b[0m, in \u001b[0;36mtrain_by_sgd\u001b[0;34m(model, training_iter)\u001b[0m\n\u001b[1;32m     86\u001b[0m     output \u001b[38;5;241m=\u001b[39m model(train_x)\n\u001b[1;32m     87\u001b[0m     loss \u001b[38;5;241m=\u001b[39m \u001b[38;5;241m-\u001b[39mmll(output, model\u001b[38;5;241m.\u001b[39mlikelihood\u001b[38;5;241m.\u001b[39mtransformed_targets)\u001b[38;5;241m.\u001b[39msum()\n\u001b[0;32m---> 88\u001b[0m     \u001b[43mloss\u001b[49m\u001b[38;5;241;43m.\u001b[39;49m\u001b[43mbackward\u001b[49m\u001b[43m(\u001b[49m\u001b[43m)\u001b[49m\n\u001b[1;32m     89\u001b[0m     optimizer\u001b[38;5;241m.\u001b[39mstep()\n\u001b[1;32m     90\u001b[0m \u001b[38;5;28;01mreturn\u001b[39;00m model\n",
      "File \u001b[0;32m~/hnap/lib/python3.10/site-packages/torch/_tensor.py:522\u001b[0m, in \u001b[0;36mTensor.backward\u001b[0;34m(self, gradient, retain_graph, create_graph, inputs)\u001b[0m\n\u001b[1;32m    512\u001b[0m \u001b[38;5;28;01mif\u001b[39;00m has_torch_function_unary(\u001b[38;5;28mself\u001b[39m):\n\u001b[1;32m    513\u001b[0m     \u001b[38;5;28;01mreturn\u001b[39;00m handle_torch_function(\n\u001b[1;32m    514\u001b[0m         Tensor\u001b[38;5;241m.\u001b[39mbackward,\n\u001b[1;32m    515\u001b[0m         (\u001b[38;5;28mself\u001b[39m,),\n\u001b[0;32m   (...)\u001b[0m\n\u001b[1;32m    520\u001b[0m         inputs\u001b[38;5;241m=\u001b[39minputs,\n\u001b[1;32m    521\u001b[0m     )\n\u001b[0;32m--> 522\u001b[0m \u001b[43mtorch\u001b[49m\u001b[38;5;241;43m.\u001b[39;49m\u001b[43mautograd\u001b[49m\u001b[38;5;241;43m.\u001b[39;49m\u001b[43mbackward\u001b[49m\u001b[43m(\u001b[49m\n\u001b[1;32m    523\u001b[0m \u001b[43m    \u001b[49m\u001b[38;5;28;43mself\u001b[39;49m\u001b[43m,\u001b[49m\u001b[43m \u001b[49m\u001b[43mgradient\u001b[49m\u001b[43m,\u001b[49m\u001b[43m \u001b[49m\u001b[43mretain_graph\u001b[49m\u001b[43m,\u001b[49m\u001b[43m \u001b[49m\u001b[43mcreate_graph\u001b[49m\u001b[43m,\u001b[49m\u001b[43m \u001b[49m\u001b[43minputs\u001b[49m\u001b[38;5;241;43m=\u001b[39;49m\u001b[43minputs\u001b[49m\n\u001b[1;32m    524\u001b[0m \u001b[43m\u001b[49m\u001b[43m)\u001b[49m\n",
      "File \u001b[0;32m~/hnap/lib/python3.10/site-packages/torch/autograd/__init__.py:266\u001b[0m, in \u001b[0;36mbackward\u001b[0;34m(tensors, grad_tensors, retain_graph, create_graph, grad_variables, inputs)\u001b[0m\n\u001b[1;32m    261\u001b[0m     retain_graph \u001b[38;5;241m=\u001b[39m create_graph\n\u001b[1;32m    263\u001b[0m \u001b[38;5;66;03m# The reason we repeat the same comment below is that\u001b[39;00m\n\u001b[1;32m    264\u001b[0m \u001b[38;5;66;03m# some Python versions print out the first line of a multi-line function\u001b[39;00m\n\u001b[1;32m    265\u001b[0m \u001b[38;5;66;03m# calls in the traceback and some print out the last line\u001b[39;00m\n\u001b[0;32m--> 266\u001b[0m \u001b[43mVariable\u001b[49m\u001b[38;5;241;43m.\u001b[39;49m\u001b[43m_execution_engine\u001b[49m\u001b[38;5;241;43m.\u001b[39;49m\u001b[43mrun_backward\u001b[49m\u001b[43m(\u001b[49m\u001b[43m  \u001b[49m\u001b[38;5;66;43;03m# Calls into the C++ engine to run the backward pass\u001b[39;49;00m\n\u001b[1;32m    267\u001b[0m \u001b[43m    \u001b[49m\u001b[43mtensors\u001b[49m\u001b[43m,\u001b[49m\n\u001b[1;32m    268\u001b[0m \u001b[43m    \u001b[49m\u001b[43mgrad_tensors_\u001b[49m\u001b[43m,\u001b[49m\n\u001b[1;32m    269\u001b[0m \u001b[43m    \u001b[49m\u001b[43mretain_graph\u001b[49m\u001b[43m,\u001b[49m\n\u001b[1;32m    270\u001b[0m \u001b[43m    \u001b[49m\u001b[43mcreate_graph\u001b[49m\u001b[43m,\u001b[49m\n\u001b[1;32m    271\u001b[0m \u001b[43m    \u001b[49m\u001b[43minputs\u001b[49m\u001b[43m,\u001b[49m\n\u001b[1;32m    272\u001b[0m \u001b[43m    \u001b[49m\u001b[43mallow_unreachable\u001b[49m\u001b[38;5;241;43m=\u001b[39;49m\u001b[38;5;28;43;01mTrue\u001b[39;49;00m\u001b[43m,\u001b[49m\n\u001b[1;32m    273\u001b[0m \u001b[43m    \u001b[49m\u001b[43maccumulate_grad\u001b[49m\u001b[38;5;241;43m=\u001b[39;49m\u001b[38;5;28;43;01mTrue\u001b[39;49;00m\u001b[43m,\u001b[49m\n\u001b[1;32m    274\u001b[0m \u001b[43m\u001b[49m\u001b[43m)\u001b[49m\n",
      "\u001b[0;31mKeyboardInterrupt\u001b[0m: "
     ]
    }
   ],
   "source": [
    "results = []\n",
    "import numpy as np\n",
    "meta = True\n",
    "\n",
    "X_test = np.load(f'./datasets/{dataset}/X_test.npz')\n",
    "y_test = np.load(f'./datasets/{dataset}/y_test.npz')\n",
    "X_validation = np.load(f'./datasets/{dataset}/X_validation.npz')\n",
    "y_validation = np.load(f'./datasets/{dataset}/y_validation.npz')\n",
    "\n",
    "X_validation_ = np.array([X_validation[key].astype('float32') for key in X_validation.keys()])\n",
    "y_validation_ = np.array([y_validation[key].astype('float32') for key in y_validation.keys()])\n",
    "\n",
    "\n",
    "X_test_ = np.array([X_test[key].astype('float32') for key in X_test.keys()])\n",
    "y_test_ = np.array([y_test[key].astype('float32') for key in y_test.keys()])\n",
    "\n",
    "best_values = []\n",
    "total_trajectories = []\n",
    "for i in range(len(X_test)):\n",
    "    \n",
    "    torch.random.manual_seed(seed)\n",
    "    benchmark = Benchmark(X_test_[i], y_test_[i])\n",
    "    # print(y_test[i])\n",
    "    benchmark2 = Benchmark(X_validation_[i], X_validation_[i])\n",
    "    true_function = benchmark.find_closest_point\n",
    "\n",
    "    x_val = torch.rand(1, n_dims)\n",
    "    print(\"X_VAL: \", x_val)\n",
    "    y_val = true_function(x_val)\n",
    "    dataset_obj = (x_val,y_val)\n",
    "    \n",
    "    true_function2 = benchmark.find_closest_point\n",
    "    coexbo = CoExBOwithSimulation(domain, true_function, sigma=0.5, hallucinate=False, meta = meta)\n",
    "    coexbo2 = CoExBOwithSimulation(domain, true_function2, sigma=0.5, hallucinate=False, meta = meta)\n",
    "    #dataset_obj, _ = coexbo.initial_sampling(n_init_obj, n_init_pref)\n",
    "    _, dataset_duel = coexbo.initial_sampling(n_init_obj, n_init_pref)\n",
    "    \n",
    "    # print(\"dataset_duel: \", dataset_duel)\n",
    "    #print(dataset_duel)\n",
    "    #_, dataset_duel = coexbo.initial_sampling(n_init_obj, n_init_pref)\n",
    "    max_bv = -1\n",
    "    trajectory = [y_val]\n",
    "    for t in range(n_iterations):\n",
    "        beta, gamma = state(t)\n",
    "        #print(\"dataset_obj: \", dataset_obj[1])\n",
    "        result, dataset_obj, dataset_duel = coexbo(\n",
    "            dataset_obj, dataset_duel, beta, gamma, model_TPN = model, lower_limit= lower_limit, upper_limit=upper_limit\n",
    "        )\n",
    "        best_v = dataset_obj[1].max().item()\n",
    "        if best_v > max_bv:\n",
    "            max_bv = best_v\n",
    "        trajectory.append(max_bv)\n",
    "        print(\"Trajectory: \", trajectory)\n",
    "        #print(f\"{len(dataset_obj[0])}) Best value: {best_v:.5e}\")\n",
    "        results.append(result)\n",
    "    total_trajectories.append(dataset_obj[1].detach().cpu().numpy())\n",
    "    best_values.append(trajectory)\n",
    "results = torch.tensor(results)"
   ]
  },
  {
   "cell_type": "code",
   "execution_count": null,
   "id": "30b4bd46",
   "metadata": {},
   "outputs": [],
   "source": [
    "import pickle\n",
    "# Save the object as a pickle file\n",
    "with open(f'evaluations/meta_{dataset}_3.pkl', 'wb') as file:\n",
    "    pickle.dump(total_trajectories, file)"
   ]
  },
  {
   "cell_type": "markdown",
   "id": "5b615b72",
   "metadata": {},
   "source": [
    "# Results\n",
    "[overhead(s), best observation, Euclidean distance between the pairwise candidates, correct_answer_rate]"
   ]
  },
  {
   "cell_type": "code",
   "execution_count": null,
   "id": "d260c915",
   "metadata": {},
   "outputs": [
    {
     "data": {
      "text/plain": [
       "[[tensor([0.1547]),\n",
       "  0.5535723567008972,\n",
       "  0.5535723567008972,\n",
       "  0.6778167486190796,\n",
       "  0.6778167486190796,\n",
       "  0.6778167486190796,\n",
       "  0.6778167486190796,\n",
       "  0.6778167486190796,\n",
       "  0.6778167486190796,\n",
       "  0.6778167486190796,\n",
       "  0.6778167486190796,\n",
       "  0.6778167486190796,\n",
       "  0.6778167486190796,\n",
       "  0.6778167486190796,\n",
       "  0.6778167486190796,\n",
       "  0.6778167486190796,\n",
       "  0.6778167486190796,\n",
       "  0.6778167486190796,\n",
       "  0.6778167486190796,\n",
       "  0.6778167486190796,\n",
       "  0.6778167486190796,\n",
       "  0.6778167486190796,\n",
       "  0.6778167486190796,\n",
       "  0.6778167486190796,\n",
       "  0.6778167486190796,\n",
       "  0.6778167486190796,\n",
       "  0.6778167486190796,\n",
       "  0.6778167486190796,\n",
       "  0.6778167486190796,\n",
       "  0.6778167486190796,\n",
       "  0.6778167486190796,\n",
       "  0.6778167486190796,\n",
       "  0.6778167486190796,\n",
       "  0.6778167486190796,\n",
       "  0.6778167486190796,\n",
       "  0.6778167486190796,\n",
       "  0.6778167486190796,\n",
       "  0.6778167486190796,\n",
       "  0.6778167486190796,\n",
       "  0.6778167486190796,\n",
       "  0.6778167486190796,\n",
       "  0.6778167486190796,\n",
       "  0.6778167486190796,\n",
       "  0.6778167486190796,\n",
       "  0.6778167486190796,\n",
       "  0.6778167486190796,\n",
       "  0.6778167486190796,\n",
       "  0.6778167486190796,\n",
       "  0.6778167486190796,\n",
       "  0.6778167486190796,\n",
       "  0.6778167486190796],\n",
       " [tensor([0.0727]),\n",
       "  0.6181818246841431,\n",
       "  0.6181818246841431,\n",
       "  0.6181818246841431,\n",
       "  0.6181818246841431,\n",
       "  0.6181818246841431,\n",
       "  0.6181818246841431,\n",
       "  0.6181818246841431,\n",
       "  0.6181818246841431,\n",
       "  0.6181818246841431,\n",
       "  0.6181818246841431,\n",
       "  0.6181818246841431,\n",
       "  0.6181818246841431,\n",
       "  0.6181818246841431,\n",
       "  0.6181818246841431,\n",
       "  0.6181818246841431,\n",
       "  0.6181818246841431,\n",
       "  0.6181818246841431,\n",
       "  0.6181818246841431,\n",
       "  0.6181818246841431,\n",
       "  0.6181818246841431,\n",
       "  0.6181818246841431,\n",
       "  0.6181818246841431,\n",
       "  0.6181818246841431,\n",
       "  0.6181818246841431,\n",
       "  0.6181818246841431,\n",
       "  0.6181818246841431,\n",
       "  0.6181818246841431,\n",
       "  0.6181818246841431,\n",
       "  0.6181818246841431,\n",
       "  0.6181818246841431,\n",
       "  0.6181818246841431,\n",
       "  0.6181818246841431,\n",
       "  0.6181818246841431,\n",
       "  0.6181818246841431,\n",
       "  0.6181818246841431,\n",
       "  0.6181818246841431,\n",
       "  0.6181818246841431,\n",
       "  0.6181818246841431,\n",
       "  0.6181818246841431,\n",
       "  0.6181818246841431,\n",
       "  0.6181818246841431,\n",
       "  0.6181818246841431,\n",
       "  0.6181818246841431,\n",
       "  0.6181818246841431,\n",
       "  0.6181818246841431,\n",
       "  0.6181818246841431,\n",
       "  0.6181818246841431,\n",
       "  0.6181818246841431,\n",
       "  0.6181818246841431,\n",
       "  0.6181818246841431],\n",
       " [tensor([0.5730]),\n",
       "  1.0,\n",
       "  1.0,\n",
       "  1.0,\n",
       "  1.0,\n",
       "  1.0,\n",
       "  1.0,\n",
       "  1.0,\n",
       "  1.0,\n",
       "  1.0,\n",
       "  1.0,\n",
       "  1.0,\n",
       "  1.0,\n",
       "  1.0,\n",
       "  1.0,\n",
       "  1.0,\n",
       "  1.0,\n",
       "  1.0,\n",
       "  1.0,\n",
       "  1.0,\n",
       "  1.0,\n",
       "  1.0,\n",
       "  1.0,\n",
       "  1.0,\n",
       "  1.0,\n",
       "  1.0,\n",
       "  1.0,\n",
       "  1.0,\n",
       "  1.0,\n",
       "  1.0,\n",
       "  1.0,\n",
       "  1.0,\n",
       "  1.0,\n",
       "  1.0,\n",
       "  1.0,\n",
       "  1.0,\n",
       "  1.0,\n",
       "  1.0,\n",
       "  1.0,\n",
       "  1.0,\n",
       "  1.0,\n",
       "  1.0,\n",
       "  1.0,\n",
       "  1.0,\n",
       "  1.0,\n",
       "  1.0,\n",
       "  1.0,\n",
       "  1.0,\n",
       "  1.0,\n",
       "  1.0,\n",
       "  1.0],\n",
       " [tensor([0.]),\n",
       "  0.9444736838340759,\n",
       "  0.9444736838340759,\n",
       "  0.9444736838340759,\n",
       "  0.9444736838340759,\n",
       "  0.9444736838340759,\n",
       "  0.9444736838340759,\n",
       "  0.9444736838340759,\n",
       "  0.9444736838340759,\n",
       "  0.9444736838340759,\n",
       "  0.9444736838340759,\n",
       "  0.9444736838340759,\n",
       "  0.9444736838340759,\n",
       "  0.9444736838340759,\n",
       "  0.9444736838340759,\n",
       "  0.9444736838340759,\n",
       "  0.9444736838340759,\n",
       "  0.9444736838340759,\n",
       "  0.9444736838340759,\n",
       "  0.9444736838340759,\n",
       "  0.9444736838340759,\n",
       "  0.9444736838340759,\n",
       "  0.9444736838340759,\n",
       "  0.9444736838340759,\n",
       "  0.9444736838340759,\n",
       "  0.9444736838340759,\n",
       "  0.9444736838340759,\n",
       "  0.9444736838340759,\n",
       "  0.9444736838340759,\n",
       "  0.9444736838340759,\n",
       "  0.9444736838340759,\n",
       "  0.9444736838340759,\n",
       "  0.9444736838340759,\n",
       "  0.9444736838340759,\n",
       "  0.9444736838340759,\n",
       "  0.9444736838340759,\n",
       "  0.9444736838340759,\n",
       "  0.9444736838340759,\n",
       "  0.9444736838340759,\n",
       "  0.9444736838340759,\n",
       "  0.9444736838340759,\n",
       "  0.9444736838340759,\n",
       "  0.9444736838340759,\n",
       "  0.9444736838340759,\n",
       "  0.9444736838340759,\n",
       "  0.9444736838340759,\n",
       "  0.9444736838340759,\n",
       "  0.9444736838340759,\n",
       "  0.9444736838340759,\n",
       "  0.9444736838340759,\n",
       "  0.9444736838340759],\n",
       " [tensor([0.6989]),\n",
       "  0.921507716178894,\n",
       "  0.921507716178894,\n",
       "  0.921507716178894,\n",
       "  0.921507716178894,\n",
       "  0.921507716178894,\n",
       "  0.921507716178894,\n",
       "  0.921507716178894,\n",
       "  0.921507716178894,\n",
       "  0.921507716178894,\n",
       "  0.921507716178894,\n",
       "  0.921507716178894,\n",
       "  0.921507716178894,\n",
       "  0.921507716178894,\n",
       "  0.921507716178894,\n",
       "  0.921507716178894,\n",
       "  0.921507716178894,\n",
       "  0.921507716178894,\n",
       "  0.921507716178894,\n",
       "  0.921507716178894,\n",
       "  0.921507716178894,\n",
       "  0.921507716178894,\n",
       "  0.921507716178894,\n",
       "  0.921507716178894,\n",
       "  0.921507716178894,\n",
       "  0.921507716178894,\n",
       "  0.921507716178894,\n",
       "  0.921507716178894,\n",
       "  0.921507716178894,\n",
       "  0.921507716178894,\n",
       "  0.921507716178894,\n",
       "  0.921507716178894,\n",
       "  0.921507716178894,\n",
       "  0.921507716178894,\n",
       "  0.921507716178894,\n",
       "  0.921507716178894,\n",
       "  0.921507716178894,\n",
       "  0.921507716178894,\n",
       "  0.921507716178894,\n",
       "  0.921507716178894,\n",
       "  0.921507716178894,\n",
       "  0.921507716178894,\n",
       "  0.921507716178894,\n",
       "  0.921507716178894,\n",
       "  0.921507716178894,\n",
       "  0.921507716178894,\n",
       "  0.921507716178894,\n",
       "  0.921507716178894,\n",
       "  0.921507716178894,\n",
       "  0.921507716178894,\n",
       "  0.921507716178894],\n",
       " [tensor([0.9673]),\n",
       "  0.9672895073890686,\n",
       "  0.9766367077827454,\n",
       "  0.9766367077827454,\n",
       "  0.9766367077827454,\n",
       "  0.9766367077827454,\n",
       "  0.9766367077827454,\n",
       "  0.9766367077827454,\n",
       "  0.9766367077827454,\n",
       "  0.9766367077827454,\n",
       "  0.9766367077827454,\n",
       "  0.9766367077827454,\n",
       "  0.9766367077827454,\n",
       "  0.9766367077827454,\n",
       "  0.9766367077827454,\n",
       "  0.9766367077827454,\n",
       "  0.9766367077827454,\n",
       "  0.9766367077827454,\n",
       "  0.9766367077827454,\n",
       "  0.9766367077827454,\n",
       "  0.9766367077827454,\n",
       "  0.9766367077827454,\n",
       "  0.9766367077827454,\n",
       "  0.9766367077827454,\n",
       "  0.9766367077827454,\n",
       "  0.9766367077827454,\n",
       "  0.9766367077827454,\n",
       "  0.9766367077827454,\n",
       "  0.9766367077827454,\n",
       "  0.9766367077827454,\n",
       "  0.9766367077827454,\n",
       "  0.9766367077827454,\n",
       "  0.9766367077827454,\n",
       "  0.9766367077827454,\n",
       "  0.9766367077827454,\n",
       "  0.9766367077827454,\n",
       "  0.9766367077827454,\n",
       "  0.9766367077827454,\n",
       "  0.9766367077827454,\n",
       "  0.9766367077827454,\n",
       "  0.9766367077827454,\n",
       "  0.9766367077827454,\n",
       "  0.9766367077827454,\n",
       "  0.9766367077827454,\n",
       "  0.9766367077827454,\n",
       "  0.9766367077827454,\n",
       "  0.9766367077827454,\n",
       "  0.9766367077827454,\n",
       "  0.9766367077827454,\n",
       "  0.9766367077827454,\n",
       "  0.9766367077827454]]"
      ]
     },
     "execution_count": 12,
     "metadata": {},
     "output_type": "execute_result"
    }
   ],
   "source": [
    "best_values"
   ]
  },
  {
   "cell_type": "code",
   "execution_count": null,
   "id": "0b3c76eb",
   "metadata": {},
   "outputs": [],
   "source": []
  }
 ],
 "metadata": {
  "kernelspec": {
   "display_name": "Python 3 (ipykernel)",
   "language": "python",
   "name": "python3"
  },
  "language_info": {
   "codemirror_mode": {
    "name": "ipython",
    "version": 3
   },
   "file_extension": ".py",
   "mimetype": "text/x-python",
   "name": "python",
   "nbconvert_exporter": "python",
   "pygments_lexer": "ipython3",
   "version": "3.10.12"
  }
 },
 "nbformat": 4,
 "nbformat_minor": 5
}
